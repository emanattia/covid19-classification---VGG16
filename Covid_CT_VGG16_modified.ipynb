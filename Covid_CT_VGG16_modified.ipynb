{
  "cells": [
    {
      "cell_type": "code",
      "execution_count": null,
      "metadata": {
        "colab": {
          "base_uri": "https://localhost:8080/"
        },
        "id": "IiybdrUF04hg",
        "outputId": "7642c923-e55e-45f9-effb-f3665ab0b80f"
      },
      "outputs": [
        {
          "name": "stdout",
          "output_type": "stream",
          "text": [
            "Requirement already satisfied: kaggle in /usr/local/lib/python3.6/dist-packages (1.5.10)\n",
            "Requirement already satisfied: python-slugify in /usr/local/lib/python3.6/dist-packages (from kaggle) (4.0.1)\n",
            "Requirement already satisfied: requests in /usr/local/lib/python3.6/dist-packages (from kaggle) (2.23.0)\n",
            "Requirement already satisfied: urllib3 in /usr/local/lib/python3.6/dist-packages (from kaggle) (1.24.3)\n",
            "Requirement already satisfied: certifi in /usr/local/lib/python3.6/dist-packages (from kaggle) (2020.12.5)\n",
            "Requirement already satisfied: tqdm in /usr/local/lib/python3.6/dist-packages (from kaggle) (4.41.1)\n",
            "Requirement already satisfied: python-dateutil in /usr/local/lib/python3.6/dist-packages (from kaggle) (2.8.1)\n",
            "Requirement already satisfied: six>=1.10 in /usr/local/lib/python3.6/dist-packages (from kaggle) (1.15.0)\n",
            "Requirement already satisfied: text-unidecode>=1.3 in /usr/local/lib/python3.6/dist-packages (from python-slugify->kaggle) (1.3)\n",
            "Requirement already satisfied: idna<3,>=2.5 in /usr/local/lib/python3.6/dist-packages (from requests->kaggle) (2.10)\n",
            "Requirement already satisfied: chardet<4,>=3.0.2 in /usr/local/lib/python3.6/dist-packages (from requests->kaggle) (3.0.4)\n"
          ]
        }
      ],
      "source": [
        "!pip install kaggle"
      ]
    },
    {
      "cell_type": "code",
      "execution_count": null,
      "metadata": {
        "colab": {
          "base_uri": "https://localhost:8080/",
          "height": 89,
          "resources": {
            "http://localhost:8080/nbextensions/google.colab/files.js": {
              "data": "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",
              "headers": [
                [
                  "content-type",
                  "application/javascript"
                ]
              ],
              "ok": true,
              "status": 200,
              "status_text": ""
            }
          }
        },
        "id": "StNKdIrz1EMa",
        "outputId": "49e3cfc9-c0b3-42ec-994d-c58f60a273dd"
      },
      "outputs": [
        {
          "data": {
            "text/html": [
              "\n",
              "     <input type=\"file\" id=\"files-66d5a77c-4788-4b4e-ad4b-a8aa4255a524\" name=\"files[]\" multiple disabled\n",
              "        style=\"border:none\" />\n",
              "     <output id=\"result-66d5a77c-4788-4b4e-ad4b-a8aa4255a524\">\n",
              "      Upload widget is only available when the cell has been executed in the\n",
              "      current browser session. Please rerun this cell to enable.\n",
              "      </output>\n",
              "      <script src=\"/nbextensions/google.colab/files.js\"></script> "
            ],
            "text/plain": [
              "<IPython.core.display.HTML object>"
            ]
          },
          "metadata": {
            "tags": []
          },
          "output_type": "display_data"
        },
        {
          "name": "stdout",
          "output_type": "stream",
          "text": [
            "Saving kaggle.json to kaggle.json\n"
          ]
        },
        {
          "data": {
            "text/plain": [
              "{'kaggle.json': b'{\"username\":\"emanattia\",\"key\":\"b427e3936a814622979d4286f9e6edaf\"}'}"
            ]
          },
          "execution_count": 2,
          "metadata": {
            "tags": []
          },
          "output_type": "execute_result"
        }
      ],
      "source": [
        "from google.colab import files\n",
        "files.upload()"
      ]
    },
    {
      "cell_type": "code",
      "execution_count": null,
      "metadata": {
        "id": "D55SIbV-1JCR"
      },
      "outputs": [],
      "source": [
        "!mkdir ~/.kaggle\n",
        "!cp /content/kaggle.json ~/.kaggle/kaggle.json"
      ]
    },
    {
      "cell_type": "code",
      "execution_count": null,
      "metadata": {
        "colab": {
          "base_uri": "https://localhost:8080/"
        },
        "id": "HFUFlyVc1OAg",
        "outputId": "460841bf-d4f0-4886-d8fb-4c9905be48e3"
      },
      "outputs": [
        {
          "name": "stdout",
          "output_type": "stream",
          "text": [
            "Warning: Your Kaggle API key is readable by other users on this system! To fix this, you can run 'chmod 600 /root/.kaggle/kaggle.json'\n",
            "Downloading sarscov2-ctscan-dataset.zip to /content\n",
            " 98% 226M/230M [00:03<00:00, 54.6MB/s]\n",
            "100% 230M/230M [00:03<00:00, 67.6MB/s]\n"
          ]
        }
      ],
      "source": [
        "!kaggle datasets download -d plameneduardo/sarscov2-ctscan-dataset"
      ]
    },
    {
      "cell_type": "code",
      "execution_count": null,
      "metadata": {
        "colab": {
          "base_uri": "https://localhost:8080/"
        },
        "id": "7Hca__8X1Qnu",
        "outputId": "71acb469-c527-4b69-afa4-b4d3d85b8fef"
      },
      "outputs": [
        {
          "name": "stdout",
          "output_type": "stream",
          "text": [
            "done\n"
          ]
        }
      ],
      "source": [
        "from zipfile import ZipFile\n",
        "file_name = \"sarscov2-ctscan-dataset.zip\"\n",
        "with ZipFile(file_name , 'r')as zip:\n",
        "  zip.extractall()\n",
        "  print('done')"
      ]
    },
    {
      "cell_type": "code",
      "execution_count": null,
      "metadata": {
        "colab": {
          "base_uri": "https://localhost:8080/"
        },
        "id": "vOfPh7Cj1V7S",
        "outputId": "120c7eaa-708b-4465-fbba-0ea05bf85ab2"
      },
      "outputs": [
        {
          "name": "stdout",
          "output_type": "stream",
          "text": [
            "Collecting split-folders\n",
            "  Downloading https://files.pythonhosted.org/packages/b8/5f/3c2b2f7ea5e047c8cdc3bb00ae582c5438fcdbbedcc23b3cc1c2c7aae642/split_folders-0.4.3-py3-none-any.whl\n",
            "Installing collected packages: split-folders\n",
            "Successfully installed split-folders-0.4.3\n"
          ]
        }
      ],
      "source": [
        "pip install split-folders"
      ]
    },
    {
      "cell_type": "code",
      "execution_count": null,
      "metadata": {
        "colab": {
          "base_uri": "https://localhost:8080/"
        },
        "id": "gqj5BBSn1aj7",
        "outputId": "59306886-becc-4357-e454-2d91c5b9a393"
      },
      "outputs": [
        {
          "name": "stderr",
          "output_type": "stream",
          "text": [
            "Copying files: 2481 files [00:00, 3399.77 files/s]\n"
          ]
        }
      ],
      "source": [
        "import splitfolders as sf\n",
        "#import split_folders as sf\n",
        "input_folder = \"/content/dataset\"\n",
        "output = \"/content/COVID_DATASET\"\n",
        "#where you want the split datasets saved. one will be created if none is set\n",
        "\n",
        "sf.ratio(input_folder, output=\"output\", seed=42, ratio=(.8, .1,.1))\n",
        "# ratio of split are in order of train/val/test. You can change to whatever you want. For train/val sets only, you could do .75, .25 for example."
      ]
    },
    {
      "cell_type": "code",
      "execution_count": null,
      "metadata": {
        "id": "-vZLgg_32CZH"
      },
      "outputs": [],
      "source": [
        "import tensorflow as tf\n",
        "from tensorflow import keras\n",
        "from tensorflow.keras.layers import Dense,GlobalAveragePooling2D\n",
        "from tensorflow.keras.models import Model\n",
        "from tensorflow.keras.applications.resnet import ResNet101\n",
        "from tensorflow.keras.optimizers import SGD\n",
        "import keras\n",
        "from keras.models import *\n",
        "from keras.layers import *\n",
        "import numpy as np\n",
        "import PIL"
      ]
    },
    {
      "cell_type": "code",
      "execution_count": null,
      "metadata": {
        "colab": {
          "base_uri": "https://localhost:8080/"
        },
        "id": "I_mm9TSR2Loj",
        "outputId": "92a372e9-3ae6-41b8-eb7f-027a5c266454"
      },
      "outputs": [
        {
          "name": "stdout",
          "output_type": "stream",
          "text": [
            "Found 1984 images belonging to 2 classes.\n",
            "Found 247 images belonging to 2 classes.\n"
          ]
        }
      ],
      "source": [
        "from keras.preprocessing.image import ImageDataGenerator\n",
        "\n",
        "trdata = ImageDataGenerator()\n",
        "traindata = trdata.flow_from_directory(directory=\"/content/output/train\",target_size=(224,224))\n",
        "tsdata = ImageDataGenerator()\n",
        "testdata = tsdata.flow_from_directory(directory=\"/content/output/val\", target_size=(224,224))"
      ]
    },
    {
      "cell_type": "code",
      "execution_count": null,
      "metadata": {
        "colab": {
          "base_uri": "https://localhost:8080/"
        },
        "id": "8ufHP6g32a_3",
        "outputId": "8294a0fc-5028-45fa-c5b0-3698763b4d8f"
      },
      "outputs": [
        {
          "name": "stdout",
          "output_type": "stream",
          "text": [
            "Downloading data from https://storage.googleapis.com/tensorflow/keras-applications/vgg16/vgg16_weights_tf_dim_ordering_tf_kernels.h5\n",
            "553467904/553467096 [==============================] - 4s 0us/step\n"
          ]
        }
      ],
      "source": [
        "from keras.applications.vgg16 import VGG16\n",
        "model=VGG16(weights='imagenet', include_top=True)"
      ]
    },
    {
      "cell_type": "code",
      "execution_count": null,
      "metadata": {
        "id": "fkboFXmd2rOY"
      },
      "outputs": [],
      "source": [
        "model.compile(optimizer='adam', loss=keras.losses.categorical_crossentropy, metrics=['accuracy'])"
      ]
    },
    {
      "cell_type": "code",
      "execution_count": null,
      "metadata": {
        "colab": {
          "base_uri": "https://localhost:8080/"
        },
        "id": "qGty0DuD24_8",
        "outputId": "b5f35e14-2d96-4cd2-c417-c3f6b0f9f0e6"
      },
      "outputs": [
        {
          "name": "stdout",
          "output_type": "stream",
          "text": [
            "<tensorflow.python.keras.engine.input_layer.InputLayer object at 0x7fd6162e1eb8>\n",
            "<tensorflow.python.keras.layers.convolutional.Conv2D object at 0x7fd6162a3fd0>\n",
            "<tensorflow.python.keras.layers.convolutional.Conv2D object at 0x7fd6162a7cf8>\n",
            "<tensorflow.python.keras.layers.pooling.MaxPooling2D object at 0x7fd5da209b70>\n",
            "<tensorflow.python.keras.layers.convolutional.Conv2D object at 0x7fd5da211d30>\n",
            "<tensorflow.python.keras.layers.convolutional.Conv2D object at 0x7fd5da217f60>\n",
            "<tensorflow.python.keras.layers.pooling.MaxPooling2D object at 0x7fd5da217ba8>\n",
            "<tensorflow.python.keras.layers.convolutional.Conv2D object at 0x7fd5da224160>\n",
            "<tensorflow.python.keras.layers.convolutional.Conv2D object at 0x7fd5da224ef0>\n",
            "<tensorflow.python.keras.layers.convolutional.Conv2D object at 0x7fd5da22d4e0>\n",
            "<tensorflow.python.keras.layers.pooling.MaxPooling2D object at 0x7fd5da232da0>\n",
            "<tensorflow.python.keras.layers.convolutional.Conv2D object at 0x7fd5da1b9a58>\n",
            "<tensorflow.python.keras.layers.convolutional.Conv2D object at 0x7fd5da1be9e8>\n",
            "<tensorflow.python.keras.layers.convolutional.Conv2D object at 0x7fd5da1beba8>\n",
            "<tensorflow.python.keras.layers.pooling.MaxPooling2D object at 0x7fd5da1c7128>\n",
            "<tensorflow.python.keras.layers.convolutional.Conv2D object at 0x7fd5da1cd7f0>\n",
            "<tensorflow.python.keras.layers.convolutional.Conv2D object at 0x7fd5da1cda58>\n",
            "<tensorflow.python.keras.layers.convolutional.Conv2D object at 0x7fd5da1d2f28>\n",
            "<tensorflow.python.keras.layers.pooling.MaxPooling2D object at 0x7fd5da1d8fd0>\n"
          ]
        }
      ],
      "source": [
        "for layers in (model.layers)[:19]:\n",
        "  print(layers)\n",
        "  layers.trainable = False"
      ]
    },
    {
      "cell_type": "code",
      "execution_count": null,
      "metadata": {
        "id": "k0khpxj729PO"
      },
      "outputs": [],
      "source": [
        "x= model.layers[-2].output\n",
        "predictions = Dense(2, activation='softmax')(x)\n",
        "model_final= Model(inputs=model.input , outputs=predictions)"
      ]
    },
    {
      "cell_type": "code",
      "execution_count": null,
      "metadata": {
        "id": "ZzRhnqH73Bzq"
      },
      "outputs": [],
      "source": [
        "from keras import optimizers\n",
        "model_final.compile(loss='categorical_crossentropy',optimizer= optimizers.SGD(lr=0.0001,momentum=0.9),metrics=['accuracy'])"
      ]
    },
    {
      "cell_type": "code",
      "execution_count": null,
      "metadata": {
        "colab": {
          "base_uri": "https://localhost:8080/"
        },
        "id": "I7NZlt8i3FoG",
        "outputId": "ccc1d0c6-9866-4d90-cb15-edc012f00269"
      },
      "outputs": [
        {
          "name": "stdout",
          "output_type": "stream",
          "text": [
            "Model: \"model\"\n",
            "_________________________________________________________________\n",
            "Layer (type)                 Output Shape              Param #   \n",
            "=================================================================\n",
            "input_1 (InputLayer)         [(None, 224, 224, 3)]     0         \n",
            "_________________________________________________________________\n",
            "block1_conv1 (Conv2D)        (None, 224, 224, 64)      1792      \n",
            "_________________________________________________________________\n",
            "block1_conv2 (Conv2D)        (None, 224, 224, 64)      36928     \n",
            "_________________________________________________________________\n",
            "block1_pool (MaxPooling2D)   (None, 112, 112, 64)      0         \n",
            "_________________________________________________________________\n",
            "block2_conv1 (Conv2D)        (None, 112, 112, 128)     73856     \n",
            "_________________________________________________________________\n",
            "block2_conv2 (Conv2D)        (None, 112, 112, 128)     147584    \n",
            "_________________________________________________________________\n",
            "block2_pool (MaxPooling2D)   (None, 56, 56, 128)       0         \n",
            "_________________________________________________________________\n",
            "block3_conv1 (Conv2D)        (None, 56, 56, 256)       295168    \n",
            "_________________________________________________________________\n",
            "block3_conv2 (Conv2D)        (None, 56, 56, 256)       590080    \n",
            "_________________________________________________________________\n",
            "block3_conv3 (Conv2D)        (None, 56, 56, 256)       590080    \n",
            "_________________________________________________________________\n",
            "block3_pool (MaxPooling2D)   (None, 28, 28, 256)       0         \n",
            "_________________________________________________________________\n",
            "block4_conv1 (Conv2D)        (None, 28, 28, 512)       1180160   \n",
            "_________________________________________________________________\n",
            "block4_conv2 (Conv2D)        (None, 28, 28, 512)       2359808   \n",
            "_________________________________________________________________\n",
            "block4_conv3 (Conv2D)        (None, 28, 28, 512)       2359808   \n",
            "_________________________________________________________________\n",
            "block4_pool (MaxPooling2D)   (None, 14, 14, 512)       0         \n",
            "_________________________________________________________________\n",
            "block5_conv1 (Conv2D)        (None, 14, 14, 512)       2359808   \n",
            "_________________________________________________________________\n",
            "block5_conv2 (Conv2D)        (None, 14, 14, 512)       2359808   \n",
            "_________________________________________________________________\n",
            "block5_conv3 (Conv2D)        (None, 14, 14, 512)       2359808   \n",
            "_________________________________________________________________\n",
            "block5_pool (MaxPooling2D)   (None, 7, 7, 512)         0         \n",
            "_________________________________________________________________\n",
            "flatten (Flatten)            (None, 25088)             0         \n",
            "_________________________________________________________________\n",
            "fc1 (Dense)                  (None, 4096)              102764544 \n",
            "_________________________________________________________________\n",
            "fc2 (Dense)                  (None, 4096)              16781312  \n",
            "_________________________________________________________________\n",
            "dense (Dense)                (None, 2)                 8194      \n",
            "=================================================================\n",
            "Total params: 134,268,738\n",
            "Trainable params: 119,554,050\n",
            "Non-trainable params: 14,714,688\n",
            "_________________________________________________________________\n"
          ]
        }
      ],
      "source": [
        "model_final.summary()"
      ]
    },
    {
      "cell_type": "code",
      "execution_count": null,
      "metadata": {
        "colab": {
          "base_uri": "https://localhost:8080/"
        },
        "id": "ZHlMo3OM3dPZ",
        "outputId": "611f16af-013c-4cf3-a924-230db377e4c9"
      },
      "outputs": [
        {
          "name": "stdout",
          "output_type": "stream",
          "text": [
            "WARNING:tensorflow:`period` argument is deprecated. Please use `save_freq` to specify the frequency in number of batches seen.\n"
          ]
        },
        {
          "name": "stderr",
          "output_type": "stream",
          "text": [
            "/usr/local/lib/python3.6/dist-packages/tensorflow/python/keras/engine/training.py:1844: UserWarning: `Model.fit_generator` is deprecated and will be removed in a future version. Please use `Model.fit`, which supports generators.\n",
            "  warnings.warn('`Model.fit_generator` is deprecated and '\n"
          ]
        },
        {
          "name": "stdout",
          "output_type": "stream",
          "text": [
            "Epoch 1/50\n",
            "2/2 [==============================] - 10s 1s/step - loss: 1.1296 - accuracy: 0.4583 - val_loss: 0.7535 - val_accuracy: 0.6562\n",
            "\n",
            "Epoch 00001: val_accuracy improved from -inf to 0.65625, saving model to vgg16_1.h5\n",
            "Epoch 2/50\n",
            "2/2 [==============================] - 1s 567ms/step - loss: 0.9050 - accuracy: 0.5833 - val_loss: 0.5826 - val_accuracy: 0.8125\n",
            "\n",
            "Epoch 00002: val_accuracy improved from 0.65625 to 0.81250, saving model to vgg16_1.h5\n",
            "Epoch 3/50\n",
            "2/2 [==============================] - 1s 583ms/step - loss: 0.5021 - accuracy: 0.7812 - val_loss: 0.5726 - val_accuracy: 0.7500\n",
            "\n",
            "Epoch 00003: val_accuracy did not improve from 0.81250\n",
            "Epoch 4/50\n",
            "2/2 [==============================] - 1s 590ms/step - loss: 0.7730 - accuracy: 0.6979 - val_loss: 0.6436 - val_accuracy: 0.8125\n",
            "\n",
            "Epoch 00004: val_accuracy did not improve from 0.81250\n",
            "Epoch 5/50\n",
            "2/2 [==============================] - 1s 582ms/step - loss: 0.3350 - accuracy: 0.8854 - val_loss: 0.6714 - val_accuracy: 0.8438\n",
            "\n",
            "Epoch 00005: val_accuracy improved from 0.81250 to 0.84375, saving model to vgg16_1.h5\n",
            "Epoch 6/50\n",
            "2/2 [==============================] - 1s 581ms/step - loss: 0.4448 - accuracy: 0.8125 - val_loss: 0.3677 - val_accuracy: 0.8438\n",
            "\n",
            "Epoch 00006: val_accuracy did not improve from 0.84375\n",
            "Epoch 7/50\n",
            "2/2 [==============================] - 1s 601ms/step - loss: 0.5894 - accuracy: 0.7708 - val_loss: 0.6652 - val_accuracy: 0.7188\n",
            "\n",
            "Epoch 00007: val_accuracy did not improve from 0.84375\n",
            "Epoch 8/50\n",
            "2/2 [==============================] - 1s 609ms/step - loss: 0.3131 - accuracy: 0.8854 - val_loss: 0.4397 - val_accuracy: 0.8125\n",
            "\n",
            "Epoch 00008: val_accuracy did not improve from 0.84375\n",
            "Epoch 9/50\n",
            "2/2 [==============================] - 1s 604ms/step - loss: 0.5402 - accuracy: 0.7604 - val_loss: 0.5049 - val_accuracy: 0.7812\n",
            "\n",
            "Epoch 00009: val_accuracy did not improve from 0.84375\n",
            "Epoch 10/50\n",
            "2/2 [==============================] - 1s 636ms/step - loss: 0.2796 - accuracy: 0.8958 - val_loss: 0.2697 - val_accuracy: 0.9062\n",
            "\n",
            "Epoch 00010: val_accuracy improved from 0.84375 to 0.90625, saving model to vgg16_1.h5\n",
            "Epoch 11/50\n",
            "2/2 [==============================] - 2s 558ms/step - loss: 0.3354 - accuracy: 0.8438 - val_loss: 0.2162 - val_accuracy: 0.9688\n",
            "\n",
            "Epoch 00011: val_accuracy improved from 0.90625 to 0.96875, saving model to vgg16_1.h5\n",
            "Epoch 12/50\n",
            "2/2 [==============================] - 4s 626ms/step - loss: 0.5638 - accuracy: 0.7500 - val_loss: 0.6576 - val_accuracy: 0.7812\n",
            "\n",
            "Epoch 00012: val_accuracy did not improve from 0.96875\n",
            "Epoch 13/50\n",
            "2/2 [==============================] - 1s 666ms/step - loss: 0.3195 - accuracy: 0.9062 - val_loss: 0.8295 - val_accuracy: 0.8125\n",
            "\n",
            "Epoch 00013: val_accuracy did not improve from 0.96875\n",
            "Epoch 14/50\n",
            "2/2 [==============================] - 1s 651ms/step - loss: 0.4676 - accuracy: 0.8125 - val_loss: 0.7354 - val_accuracy: 0.7812\n",
            "\n",
            "Epoch 00014: val_accuracy did not improve from 0.96875\n",
            "Epoch 15/50\n",
            "2/2 [==============================] - 1s 646ms/step - loss: 1.0016 - accuracy: 0.6458 - val_loss: 0.1184 - val_accuracy: 0.9375\n",
            "\n",
            "Epoch 00015: val_accuracy did not improve from 0.96875\n",
            "Epoch 16/50\n",
            "2/2 [==============================] - 1s 642ms/step - loss: 0.6158 - accuracy: 0.7708 - val_loss: 0.3708 - val_accuracy: 0.9062\n",
            "\n",
            "Epoch 00016: val_accuracy did not improve from 0.96875\n",
            "Epoch 17/50\n",
            "2/2 [==============================] - 1s 662ms/step - loss: 0.3047 - accuracy: 0.9062 - val_loss: 0.0597 - val_accuracy: 1.0000\n",
            "\n",
            "Epoch 00017: val_accuracy improved from 0.96875 to 1.00000, saving model to vgg16_1.h5\n",
            "Epoch 18/50\n",
            "2/2 [==============================] - 1s 601ms/step - loss: 0.1054 - accuracy: 0.9479 - val_loss: 0.1028 - val_accuracy: 0.9688\n",
            "\n",
            "Epoch 00018: val_accuracy did not improve from 1.00000\n",
            "Epoch 19/50\n",
            "2/2 [==============================] - 1s 656ms/step - loss: 0.1406 - accuracy: 0.9583 - val_loss: 0.0630 - val_accuracy: 0.9688\n",
            "\n",
            "Epoch 00019: val_accuracy did not improve from 1.00000\n",
            "Epoch 20/50\n",
            "2/2 [==============================] - 1s 646ms/step - loss: 0.1328 - accuracy: 0.9479 - val_loss: 0.0567 - val_accuracy: 1.0000\n",
            "\n",
            "Epoch 00020: val_accuracy did not improve from 1.00000\n",
            "Epoch 21/50\n",
            "2/2 [==============================] - 1s 753ms/step - loss: 0.2562 - accuracy: 0.9167 - val_loss: 0.1621 - val_accuracy: 0.9375\n",
            "\n",
            "Epoch 00021: val_accuracy did not improve from 1.00000\n",
            "Epoch 22/50\n",
            "2/2 [==============================] - 1s 628ms/step - loss: 0.2841 - accuracy: 0.8750 - val_loss: 0.1446 - val_accuracy: 0.9375\n",
            "\n",
            "Epoch 00022: val_accuracy did not improve from 1.00000\n",
            "Epoch 23/50\n",
            "2/2 [==============================] - 1s 593ms/step - loss: 0.2343 - accuracy: 0.9062 - val_loss: 0.0802 - val_accuracy: 0.9688\n",
            "\n",
            "Epoch 00023: val_accuracy did not improve from 1.00000\n",
            "Epoch 24/50\n",
            "2/2 [==============================] - 1s 632ms/step - loss: 0.1413 - accuracy: 0.9167 - val_loss: 0.1354 - val_accuracy: 0.9062\n",
            "\n",
            "Epoch 00024: val_accuracy did not improve from 1.00000\n",
            "Epoch 25/50\n",
            "2/2 [==============================] - 1s 607ms/step - loss: 0.0735 - accuracy: 0.9792 - val_loss: 0.2325 - val_accuracy: 0.9062\n",
            "\n",
            "Epoch 00025: val_accuracy did not improve from 1.00000\n",
            "Epoch 26/50\n",
            "2/2 [==============================] - 1s 610ms/step - loss: 0.1620 - accuracy: 0.9375 - val_loss: 0.2527 - val_accuracy: 0.9375\n",
            "\n",
            "Epoch 00026: val_accuracy did not improve from 1.00000\n",
            "Epoch 27/50\n",
            "2/2 [==============================] - 1s 622ms/step - loss: 0.2252 - accuracy: 0.8854 - val_loss: 0.2284 - val_accuracy: 0.9062\n",
            "\n",
            "Epoch 00027: val_accuracy did not improve from 1.00000\n",
            "Epoch 28/50\n",
            "2/2 [==============================] - 1s 586ms/step - loss: 0.1745 - accuracy: 0.9375 - val_loss: 0.3690 - val_accuracy: 0.8750\n",
            "\n",
            "Epoch 00028: val_accuracy did not improve from 1.00000\n",
            "Epoch 29/50\n",
            "2/2 [==============================] - 1s 568ms/step - loss: 0.0534 - accuracy: 0.9792 - val_loss: 0.2338 - val_accuracy: 0.9375\n",
            "\n",
            "Epoch 00029: val_accuracy did not improve from 1.00000\n",
            "Epoch 30/50\n",
            "2/2 [==============================] - 1s 609ms/step - loss: 0.2662 - accuracy: 0.8854 - val_loss: 0.0783 - val_accuracy: 0.9688\n",
            "\n",
            "Epoch 00030: val_accuracy did not improve from 1.00000\n",
            "Epoch 31/50\n",
            "2/2 [==============================] - 1s 628ms/step - loss: 0.2267 - accuracy: 0.9062 - val_loss: 0.0849 - val_accuracy: 0.9688\n",
            "\n",
            "Epoch 00031: val_accuracy did not improve from 1.00000\n",
            "Epoch 32/50\n",
            "2/2 [==============================] - 1s 616ms/step - loss: 0.0382 - accuracy: 1.0000 - val_loss: 0.1455 - val_accuracy: 0.9375\n",
            "\n",
            "Epoch 00032: val_accuracy did not improve from 1.00000\n",
            "Epoch 33/50\n",
            "2/2 [==============================] - 1s 602ms/step - loss: 0.1266 - accuracy: 0.9271 - val_loss: 0.1373 - val_accuracy: 0.9688\n",
            "\n",
            "Epoch 00033: val_accuracy did not improve from 1.00000\n",
            "Epoch 34/50\n",
            "2/2 [==============================] - 1s 601ms/step - loss: 0.0662 - accuracy: 0.9792 - val_loss: 0.0639 - val_accuracy: 1.0000\n",
            "\n",
            "Epoch 00034: val_accuracy did not improve from 1.00000\n",
            "Epoch 35/50\n",
            "2/2 [==============================] - 1s 607ms/step - loss: 0.1380 - accuracy: 0.9583 - val_loss: 0.2105 - val_accuracy: 0.9375\n",
            "\n",
            "Epoch 00035: val_accuracy did not improve from 1.00000\n",
            "Epoch 36/50\n",
            "2/2 [==============================] - 1s 595ms/step - loss: 0.0833 - accuracy: 0.9792 - val_loss: 0.0824 - val_accuracy: 0.9688\n",
            "\n",
            "Epoch 00036: val_accuracy did not improve from 1.00000\n",
            "Epoch 37/50\n",
            "2/2 [==============================] - 1s 589ms/step - loss: 0.1033 - accuracy: 0.9583 - val_loss: 0.0620 - val_accuracy: 0.9688\n",
            "\n",
            "Epoch 00037: val_accuracy did not improve from 1.00000\n",
            "Epoch 00037: early stopping\n"
          ]
        }
      ],
      "source": [
        "from keras.callbacks import ModelCheckpoint, EarlyStopping\n",
        "checkpoint = ModelCheckpoint(\"vgg16_1.h5\", monitor='val_accuracy', verbose=1, save_best_only=True,save_weights_only=False, mode='auto', period=1)\n",
        "early = EarlyStopping(monitor='val_accuracy', min_delta=0, patience=20, verbose=1, mode='auto')\n",
        "hist = model_final.fit_generator(steps_per_epoch=2,\n",
        "                           generator=traindata,\n",
        "                           validation_data= testdata,\n",
        "                           validation_steps=1,\n",
        "                           epochs=50,\n",
        "                           callbacks=[checkpoint,early])"
      ]
    },
    {
      "cell_type": "code",
      "execution_count": null,
      "metadata": {
        "colab": {
          "base_uri": "https://localhost:8080/"
        },
        "id": "A3oL9Qpt3lUr",
        "outputId": "5f8d9eea-f0d0-43e4-9069-aa8cb6030c97"
      },
      "outputs": [
        {
          "data": {
            "text/plain": [
              "[0.484375,\n",
              " 0.546875,\n",
              " 0.765625,\n",
              " 0.6875,\n",
              " 0.875,\n",
              " 0.8125,\n",
              " 0.75,\n",
              " 0.875,\n",
              " 0.75,\n",
              " 0.890625,\n",
              " 0.84375,\n",
              " 0.765625,\n",
              " 0.875,\n",
              " 0.828125,\n",
              " 0.65625,\n",
              " 0.765625,\n",
              " 0.90625,\n",
              " 0.9375,\n",
              " 0.96875,\n",
              " 0.9375,\n",
              " 0.921875,\n",
              " 0.875,\n",
              " 0.921875,\n",
              " 0.921875,\n",
              " 0.96875,\n",
              " 0.953125,\n",
              " 0.859375,\n",
              " 0.9375,\n",
              " 0.984375,\n",
              " 0.90625,\n",
              " 0.890625,\n",
              " 1.0,\n",
              " 0.9375,\n",
              " 0.984375,\n",
              " 0.953125,\n",
              " 0.984375,\n",
              " 0.953125]"
            ]
          },
          "execution_count": 17,
          "metadata": {
            "tags": []
          },
          "output_type": "execute_result"
        }
      ],
      "source": [
        "hist.history['accuracy']"
      ]
    },
    {
      "cell_type": "code",
      "execution_count": null,
      "metadata": {
        "colab": {
          "base_uri": "https://localhost:8080/"
        },
        "id": "mjovsyIJ4CfL",
        "outputId": "e0eb346d-8bac-4742-cb31-10f16c341ac3"
      },
      "outputs": [
        {
          "data": {
            "text/plain": [
              "Text(0.5, 0, 'epoch')"
            ]
          },
          "execution_count": 18,
          "metadata": {
            "tags": []
          },
          "output_type": "execute_result"
        },
        {
          "data": {
            "image/png": "[encoded data removed]",
            "text/plain": [
              "<Figure size 432x288 with 1 Axes>"
            ]
          },
          "metadata": {
            "needs_background": "light",
            "tags": []
          },
          "output_type": "display_data"
        }
      ],
      "source": [
        "hist.history.keys()\n",
        "import matplotlib.pyplot as plt\n",
        "%matplotlib inline\n",
        "plt.plot(hist.history['loss'])\n",
        "plt.plot(hist.history['val_loss'])\n",
        "plt.legend(['Training', 'Validation'])\n",
        "plt.title('Training and Validation losses')\n",
        "plt.xlabel('epoch')"
      ]
    },
    {
      "cell_type": "code",
      "execution_count": null,
      "metadata": {
        "id": "eWyAzqFB4D98"
      },
      "outputs": [],
      "source": [
        "saved_model=model_final.save('vgg16_1.h5')"
      ]
    },
    {
      "cell_type": "code",
      "execution_count": null,
      "metadata": {
        "colab": {
          "base_uri": "https://localhost:8080/"
        },
        "id": "7Dh1FhJS75k1",
        "outputId": "a4258071-74c1-4e9d-b599-b72cc05cc2a1"
      },
      "outputs": [
        {
          "name": "stdout",
          "output_type": "stream",
          "text": [
            "Found 250 images belonging to 2 classes.\n"
          ]
        }
      ],
      "source": [
        "test_data = trdata.flow_from_directory(directory=\"/content/output/test\",target_size=(224,224))"
      ]
    },
    {
      "cell_type": "code",
      "execution_count": null,
      "metadata": {
        "id": "Y9PpGNub8SQ2"
      },
      "outputs": [],
      "source": [
        "new_model=load_model('/content/vgg16_1.h5')"
      ]
    },
    {
      "cell_type": "code",
      "execution_count": null,
      "metadata": {
        "colab": {
          "base_uri": "https://localhost:8080/"
        },
        "id": "lmhnOjbO4Nbk",
        "outputId": "e06d4491-0831-4a7e-b0f5-3f1cd98b5e3f"
      },
      "outputs": [
        {
          "name": "stdout",
          "output_type": "stream",
          "text": [
            "8/8 [==============================] - 5s 627ms/step - loss: 0.1589 - accuracy: 0.9360\n"
          ]
        },
        {
          "data": {
            "text/plain": [
              "[0.15889552235603333, 0.9359999895095825]"
            ]
          },
          "execution_count": 22,
          "metadata": {
            "tags": []
          },
          "output_type": "execute_result"
        }
      ],
      "source": [
        "pred=new_model.evaluate(test_data)\n",
        "pred"
      ]
    },
    {
      "cell_type": "code",
      "execution_count": null,
      "metadata": {
        "colab": {
          "base_uri": "https://localhost:8080/"
        },
        "id": "laXC7_A68EWx",
        "outputId": "6d95e384-e8ea-4043-a1e4-3b2ee89a69eb"
      },
      "outputs": [
        {
          "name": "stdout",
          "output_type": "stream",
          "text": [
            "normal\n"
          ]
        },
        {
          "data": {
            "image/png": "[encoded data removed]",
            "text/plain": [
              "<Figure size 432x288 with 1 Axes>"
            ]
          },
          "metadata": {
            "needs_background": "light",
            "tags": []
          },
          "output_type": "display_data"
        }
      ],
      "source": [
        "from keras.preprocessing import image\n",
        "img = image.load_img('/content/output/test/non-COVID/Non-Covid (1053).png',target_size=(224,224))\n",
        "img = np.asarray(img)\n",
        "plt.imshow(img)\n",
        "img = np.expand_dims(img, axis=0)\n",
        "from keras.models import load_model\n",
        "saved_model = load_model('/content/vgg16_1.h5')\n",
        "output = saved_model.predict(img)\n",
        "if output[0][0] > output[0][1]:\n",
        "    print('covid')\n",
        "else:\n",
        "    print('normal')"
      ]
    },
    {
      "cell_type": "code",
      "execution_count": null,
      "metadata": {
        "id": "Vu-Yg2wg9oEj"
      },
      "outputs": [],
      "source": [
        ""
      ]
    }
  ],
  "metadata": {
    "accelerator": "GPU",
    "colab": {
      "collapsed_sections": [],
      "name": "Covid_CT_VGG16_modified.ipynb",
      "provenance": []
    },
    "kernelspec": {
      "display_name": "Python 3",
      "language": "python",
      "name": "python3"
    },
    "language_info": {
      "codemirror_mode": {
        "name": "ipython",
        "version": 3
      },
      "file_extension": ".py",
      "mimetype": "text/x-python",
      "name": "python",
      "nbconvert_exporter": "python",
      "pygments_lexer": "ipython3",
      "version": "3.7.9"
    }
  },
  "nbformat": 4,
  "nbformat_minor": 0
}